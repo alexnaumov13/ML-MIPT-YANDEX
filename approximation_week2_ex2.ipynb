{
 "cells": [
  {
   "cell_type": "code",
   "execution_count": 5,
   "metadata": {},
   "outputs": [],
   "source": [
    "import numpy as np\n",
    "import sympy as sym\n",
    "import math\n",
    "import matplotlib.pyplot as plt\n",
    "\n",
    "x = sym.symbols('x')"
   ]
  },
  {
   "cell_type": "code",
   "execution_count": 44,
   "metadata": {},
   "outputs": [
    {
     "name": "stdout",
     "output_type": "stream",
     "text": [
      "3.25221686527\n"
     ]
    }
   ],
   "source": [
    "def f(x):\n",
    "    return math.sin(x / 5) * math.exp(x / 10) + 5 * math.exp(-x / 2)\n",
    "\n",
    "print(f(1.0))"
   ]
  },
  {
   "cell_type": "code",
   "execution_count": 38,
   "metadata": {},
   "outputs": [
    {
     "name": "stdout",
     "output_type": "stream",
     "text": [
      "[[1.000e+00 1.000e+00 1.000e+00 1.000e+00]\n",
      " [1.000e+00 4.000e+00 1.600e+01 6.400e+01]\n",
      " [1.000e+00 1.000e+01 1.000e+02 1.000e+03]\n",
      " [1.000e+00 1.500e+01 2.250e+02 3.375e+03]]\n",
      "[[3.25221687]\n",
      " [1.74684595]\n",
      " [2.50541641]\n",
      " [0.63522142]]\n",
      "[[ 4.36264154]\n",
      " [-1.29552587]\n",
      " [ 0.19333685]\n",
      " [-0.00823565]]\n",
      "0.38527265\n"
     ]
    }
   ],
   "source": [
    "coord = [1.0,4.0,10.0,15.0]\n",
    "size = len(coord)\n",
    "# X = np.zeros((size,size))\n",
    "# W = np.zeros((size,1))\n",
    "# F = np.zeros((size,1))\n",
    "\n",
    "def X_CREATE(x):\n",
    "#     size = len(x)\n",
    "    X = np.zeros((size,size))\n",
    "    for i in range(X.shape[0]):\n",
    "        for j in range(X.shape[1]):\n",
    "            X[i][j] = x[i]**j\n",
    "    return X\n",
    "\n",
    "def F_CREATE(x1):\n",
    "    F = np.zeros((size,1))\n",
    "    for i in range(F.shape[0]):\n",
    "        x_ = x1[i]\n",
    "        F[i][0] = f(x_)\n",
    "    return F\n",
    "    \n",
    "    \n",
    "X1 = X_CREATE(coord)\n",
    "F1 = F_CREATE(coord)\n",
    "print(X1)\n",
    "print(F1)\n",
    "\n",
    "# numpy.linalg.solve(левая часть системы, правая часть системы)\n",
    "W = np.linalg.solve(X1, F1)\n",
    "\n",
    "print(W)\n",
    "\n",
    "def check(x):\n",
    "    return 2.94378905 -1.32450651*x**1 + 0.2303422*x**2 - 0.01022753*x**3\n",
    "\n",
    "print check(15)"
   ]
  },
  {
   "cell_type": "code",
   "execution_count": null,
   "metadata": {},
   "outputs": [],
   "source": []
  }
 ],
 "metadata": {
  "kernelspec": {
   "display_name": "Python 2",
   "language": "python",
   "name": "python2"
  },
  "language_info": {
   "codemirror_mode": {
    "name": "ipython",
    "version": 2
   },
   "file_extension": ".py",
   "mimetype": "text/x-python",
   "name": "python",
   "nbconvert_exporter": "python",
   "pygments_lexer": "ipython2",
   "version": "2.7.16"
  }
 },
 "nbformat": 4,
 "nbformat_minor": 2
}
