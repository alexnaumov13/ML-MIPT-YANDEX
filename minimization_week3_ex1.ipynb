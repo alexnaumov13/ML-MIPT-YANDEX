{
 "cells": [
  {
   "cell_type": "code",
   "execution_count": 28,
   "metadata": {},
   "outputs": [
    {
     "name": "stdout",
     "output_type": "stream",
     "text": [
      "      fun: -11.898894665981322\n",
      " hess_inv: array([[1.67940841]])\n",
      "      jac: array([0.])\n",
      "  message: 'Optimization terminated successfully.'\n",
      "     nfev: 21\n",
      "      nit: 6\n",
      "     njev: 7\n",
      "   status: 0\n",
      "  success: True\n",
      "        x: array([25.880193])\n"
     ]
    }
   ],
   "source": [
    "import math\n",
    "import scipy\n",
    "import numpy as np\n",
    "from scipy.optimize import minimize\n",
    "def f(x): \n",
    "    return math.sin(x / 5.0) * math.exp(x / 10.) + 5. * math.exp(-x / 2.)\n",
    "\n",
    "res = minimize(f, 30.0,method = 'BFGS')\n",
    "print(res)\n"
   ]
  },
  {
   "cell_type": "code",
   "execution_count": 16,
   "metadata": {},
   "outputs": [
    {
     "name": "stdout",
     "output_type": "stream",
     "text": [
      "     fun: -11.898894662097801\n",
      "     jac: array([-6.80344669e-05])\n",
      " message: 'Optimization terminated successfully.'\n",
      "    nfev: 79\n",
      "     nit: 4\n",
      " success: True\n",
      "       x: array([25.88007877])\n"
     ]
    }
   ],
   "source": [
    "from scipy.optimize import differential_evolution\n",
    "bounds = [(1,30)]\n",
    "res = differential_evolution(f,bounds)\n",
    "print res\n"
   ]
  },
  {
   "cell_type": "code",
   "execution_count": 34,
   "metadata": {},
   "outputs": [
    {
     "name": "stdout",
     "output_type": "stream",
     "text": [
      "      fun: -5\n",
      " hess_inv: array([[1]])\n",
      "      jac: array([0.])\n",
      "  message: 'Optimization terminated successfully.'\n",
      "     nfev: 3\n",
      "      nit: 0\n",
      "     njev: 1\n",
      "   status: 0\n",
      "  success: True\n",
      "        x: array([30.]) \n",
      "\n",
      "     fun: -11.0\n",
      " message: 'Optimization terminated successfully.'\n",
      "    nfev: 122\n",
      "     nit: 7\n",
      " success: True\n",
      "       x: array([24.39182148])\n"
     ]
    }
   ],
   "source": [
    "def h(x): \n",
    "    return int(math.sin(x / 5) * math.exp(x / 10) + 5. * math.exp(-x / 2))\n",
    "res1 = minimize(h,30,method = 'BFGS')\n",
    "res2 = differential_evolution(h, bounds)\n",
    "\n",
    "print res1,\"\\n\\n\",res2"
   ]
  },
  {
   "cell_type": "code",
   "execution_count": 35,
   "metadata": {},
   "outputs": [
    {
     "name": "stdout",
     "output_type": "stream",
     "text": [
      "[[ 0.]\n",
      " [ 1.]\n",
      " [ 2.]\n",
      " [ 3.]\n",
      " [ 4.]\n",
      " [ 5.]\n",
      " [ 6.]\n",
      " [ 7.]\n",
      " [ 8.]\n",
      " [ 9.]\n",
      " [10.]\n",
      " [11.]\n",
      " [12.]\n",
      " [13.]\n",
      " [14.]\n",
      " [15.]\n",
      " [16.]\n",
      " [17.]\n",
      " [18.]\n",
      " [19.]\n",
      " [20.]\n",
      " [21.]\n",
      " [22.]\n",
      " [23.]\n",
      " [24.]\n",
      " [25.]\n",
      " [26.]\n",
      " [27.]\n",
      " [28.]\n",
      " [29.]]\n",
      "[[  5.        ]\n",
      " [  3.25221687]\n",
      " [  2.31503384]\n",
      " [  1.87783842]\n",
      " [  1.74684595]\n",
      " [  1.7977761 ]\n",
      " [  1.94722128]\n",
      " [  2.13543898]\n",
      " [  2.31617016]\n",
      " [  2.45082365]\n",
      " [  2.50541641]\n",
      " [  2.44929128]\n",
      " [  2.2550105 ]\n",
      " [  1.89904466]\n",
      " [  1.36300335]\n",
      " [  0.63522142]\n",
      " [ -0.28745171]\n",
      " [ -1.39780121]\n",
      " [ -2.67647563]\n",
      " [ -4.09044301]\n",
      " [ -5.59182909]\n",
      " [ -7.11729817]\n",
      " [ -8.58813805]\n",
      " [ -9.91120472]\n",
      " [-10.98086747]\n",
      " [-11.68207055]\n",
      " [-11.89459075]\n",
      " [-11.49852141]\n",
      " [-10.38095272]\n",
      " [ -8.44374503]]\n",
      "[[  5.]\n",
      " [  3.]\n",
      " [  2.]\n",
      " [  1.]\n",
      " [  1.]\n",
      " [  1.]\n",
      " [  1.]\n",
      " [  2.]\n",
      " [  2.]\n",
      " [  2.]\n",
      " [  2.]\n",
      " [  2.]\n",
      " [  2.]\n",
      " [  1.]\n",
      " [  1.]\n",
      " [  0.]\n",
      " [  0.]\n",
      " [ -1.]\n",
      " [ -2.]\n",
      " [ -4.]\n",
      " [ -5.]\n",
      " [ -7.]\n",
      " [ -8.]\n",
      " [ -9.]\n",
      " [-10.]\n",
      " [-11.]\n",
      " [-11.]\n",
      " [-11.]\n",
      " [-10.]\n",
      " [ -8.]]\n"
     ]
    },
    {
     "data": {
      "image/png": "[encoded data removed]",
      "text/plain": [
       "<Figure size 432x288 with 1 Axes>"
      ]
     },
     "metadata": {
      "needs_background": "light"
     },
     "output_type": "display_data"
    }
   ],
   "source": [
    "import matplotlib.pyplot as plt\n",
    "\n",
    "X = np.zeros([30,1])\n",
    "F = np.zeros([30,1])\n",
    "H = np.zeros([30,1])\n",
    "\n",
    "\n",
    "for i in range(30):\n",
    "    X[i] = float(i)\n",
    "for i in range(30):\n",
    "    F[i] = f(X[i])\n",
    "for i in range(30):\n",
    "    H[i] = h(X[i])\n",
    "    \n",
    "print X\n",
    "print F\n",
    "print H\n",
    "plt.plot(X,F)\n",
    "plt.plot(X,H)\n",
    "plt.show()"
   ]
  },
  {
   "cell_type": "code",
   "execution_count": null,
   "metadata": {},
   "outputs": [],
   "source": []
  }
 ],
 "metadata": {
  "kernelspec": {
   "display_name": "Python 2",
   "language": "python",
   "name": "python2"
  },
  "language_info": {
   "codemirror_mode": {
    "name": "ipython",
    "version": 2
   },
   "file_extension": ".py",
   "mimetype": "text/x-python",
   "name": "python",
   "nbconvert_exporter": "python",
   "pygments_lexer": "ipython2",
   "version": "2.7.16"
  }
 },
 "nbformat": 4,
 "nbformat_minor": 2
}
